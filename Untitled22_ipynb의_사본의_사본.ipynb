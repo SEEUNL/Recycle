{
  "nbformat": 4,
  "nbformat_minor": 0,
  "metadata": {
    "colab": {
      "name": "Untitled22.ipynb의 사본의 사본",
      "version": "0.3.2",
      "provenance": []
    },
    "kernelspec": {
      "name": "python3",
      "display_name": "Python 3"
    }
  },
  "cells": [
    {
      "cell_type": "code",
      "metadata": {
        "id": "ugGKbAzlwPPG",
        "colab_type": "code",
        "outputId": "e41871ec-af46-46b7-d58b-6108eb3d92e8",
        "colab": {
          "base_uri": "https://localhost:8080/",
          "height": 164
        }
      },
      "source": [
        "from google.colab import drive\n",
        "import os\n",
        "\n",
        "if os.path.exists('/content/gdrive')==False:\n",
        "  drive.mount('/content/gdrive')\n",
        "  print('Google Drive is mounted\\n')\n",
        "else:\n",
        "  print('Google Drive is already mounted\\n')\n",
        "  "
      ],
      "execution_count": 1,
      "outputs": [
        {
          "output_type": "stream",
          "text": [
            "Go to this URL in a browser: https://accounts.google.com/o/oauth2/auth?client_id=947318989803-6bn6qk8qdgf4n4g3pfee6491hc0brc4i.apps.googleusercontent.com&redirect_uri=urn%3Aietf%3Awg%3Aoauth%3A2.0%3Aoob&scope=email%20https%3A%2F%2Fwww.googleapis.com%2Fauth%2Fdocs.test%20https%3A%2F%2Fwww.googleapis.com%2Fauth%2Fdrive%20https%3A%2F%2Fwww.googleapis.com%2Fauth%2Fdrive.photos.readonly%20https%3A%2F%2Fwww.googleapis.com%2Fauth%2Fpeopleapi.readonly&response_type=code\n",
            "\n",
            "Enter your authorization code:\n",
            "··········\n",
            "Mounted at /content/gdrive\n",
            "Google Drive is mounted\n",
            "\n"
          ],
          "name": "stdout"
        }
      ]
    },
    {
      "cell_type": "code",
      "metadata": {
        "id": "nkhVpA30weOy",
        "colab_type": "code",
        "colab": {}
      },
      "source": [
        "from keras.datasets import mnist\n",
        "import tensorflow as tf\n",
        "import numpy as np\n",
        "from keras.utils import np_utils\n",
        "from keras.models import Sequential\n",
        "from keras.layers import Dense, Activation, Conv2D, MaxPooling2D, Flatten\n",
        "from keras.optimizers import SGD\n",
        "import matplotlib.pyplot as plt\n",
        "\n",
        "np.random.seed(777)\n",
        "classes = 10\n",
        "def mnist_data():\n",
        "  img_rows = 28\n",
        "  img_cols = 28\n",
        "  (X_train, Y_train), (X_test, Y_test) = mnist.load_data()\n",
        "  \n",
        "  X_train = X_train.reshape(X_train.shape[0], img_rows, img_cols, 1)\n",
        "  X_test  = X_test.reshape(X_test.shape[0], img_rows, img_cols, 1)\n",
        "  input_shape = X_train.shape[1:]\n",
        "  print(input_shape)\n",
        "  \n",
        "  X_train = X_train.astype(np.float32) / 255\n",
        "  X_test = X_test.astype(np.float32) / 255\n",
        "\n",
        "  Y_train = np_utils.to_categorical(Y_train, classes)\n",
        "  Y_test = np_utils.to_categorical(Y_test, classes)\n",
        "  \n",
        "  return (X_train, Y_train),(X_test, Y_test), input_shape\n",
        "\n",
        "def getModel(input_shape):\n",
        "  \n",
        "  filter_size = 16  # 필터 개수\n",
        "  kernel_size = (3,3) # 필터 사이즈\n",
        "  pool_size = (2,2)\n",
        "  \n",
        "  m = Sequential()   # 케라스에서 모델 생성을 위해 Sequential 객체 생성\n",
        "  m.add(Conv2D(filter_size, kernel_size, padding = 'same', input_shape = input_shape))\n",
        "  m.add(Activation('relu'))\n",
        "  m.add(Conv2D(filter_size, kernel_size, padding = 'same'))\n",
        "  m.add(Activation('relu'))\n",
        "  m.add(MaxPooling2D(pool_size))\n",
        "  \n",
        "  \n",
        "  m.add(Conv2D(filter_size * 2, kernel_size, padding = 'same'))\n",
        "  m.add(Activation('relu'))\n",
        "  m.add(Conv2D(filter_size * 2, kernel_size, padding = 'same'))\n",
        "  m.add(Activation('relu'))\n",
        "  m.add(Conv2D(filter_size * 2, kernel_size, padding = 'same'))\n",
        "  m.add(Activation('relu'))\n",
        "  m.add(MaxPooling2D(pool_size))\n",
        "  \n",
        "  \n",
        "  m.add(Flatten())\n",
        "  m.add(Dense(128))\n",
        "  m.add(Dense(classes))\n",
        "  m.add(Activation('softmax'))\n",
        "  m.summary() #모델에 대한 정보 출력\n",
        "  return m\n",
        "\n",
        "\n",
        "\n",
        "\n"
      ],
      "execution_count": 0,
      "outputs": []
    },
    {
      "cell_type": "code",
      "metadata": {
        "id": "1edYxIt1y4l3",
        "colab_type": "code",
        "outputId": "f7b4bca3-f53e-4810-97bf-74a0a569deee",
        "colab": {
          "base_uri": "https://localhost:8080/",
          "height": 1054
        }
      },
      "source": [
        "(X_train, Y_train),(X_test, Y_test), input_shape = mnist_data()\n",
        "print(X_train.shape)\n",
        "\n",
        "model = getModel(input_shape)\n",
        "\n",
        "# 학습 과정 설정 (손실함수, optiizer, 측정 지표)\n",
        "model.compile(loss = 'categorical_crossentropy', optimizer = 'adam', metrics = ['accuracy'])\n",
        "\n",
        "model.fit(X_train, Y_train, epochs = 5, batch_size =32, verbose = 1)"
      ],
      "execution_count": 6,
      "outputs": [
        {
          "output_type": "stream",
          "text": [
            "(28, 28, 1)\n",
            "(60000, 28, 28, 1)\n",
            "WARNING:tensorflow:From /usr/local/lib/python3.6/dist-packages/tensorflow/python/framework/op_def_library.py:263: colocate_with (from tensorflow.python.framework.ops) is deprecated and will be removed in a future version.\n",
            "Instructions for updating:\n",
            "Colocations handled automatically by placer.\n",
            "_________________________________________________________________\n",
            "Layer (type)                 Output Shape              Param #   \n",
            "=================================================================\n",
            "conv2d_1 (Conv2D)            (None, 28, 28, 16)        160       \n",
            "_________________________________________________________________\n",
            "activation_1 (Activation)    (None, 28, 28, 16)        0         \n",
            "_________________________________________________________________\n",
            "conv2d_2 (Conv2D)            (None, 28, 28, 16)        2320      \n",
            "_________________________________________________________________\n",
            "activation_2 (Activation)    (None, 28, 28, 16)        0         \n",
            "_________________________________________________________________\n",
            "max_pooling2d_1 (MaxPooling2 (None, 14, 14, 16)        0         \n",
            "_________________________________________________________________\n",
            "conv2d_3 (Conv2D)            (None, 14, 14, 32)        4640      \n",
            "_________________________________________________________________\n",
            "activation_3 (Activation)    (None, 14, 14, 32)        0         \n",
            "_________________________________________________________________\n",
            "conv2d_4 (Conv2D)            (None, 14, 14, 32)        9248      \n",
            "_________________________________________________________________\n",
            "activation_4 (Activation)    (None, 14, 14, 32)        0         \n",
            "_________________________________________________________________\n",
            "conv2d_5 (Conv2D)            (None, 14, 14, 32)        9248      \n",
            "_________________________________________________________________\n",
            "activation_5 (Activation)    (None, 14, 14, 32)        0         \n",
            "_________________________________________________________________\n",
            "max_pooling2d_2 (MaxPooling2 (None, 7, 7, 32)          0         \n",
            "_________________________________________________________________\n",
            "flatten_1 (Flatten)          (None, 1568)              0         \n",
            "_________________________________________________________________\n",
            "dense_1 (Dense)              (None, 128)               200832    \n",
            "_________________________________________________________________\n",
            "dense_2 (Dense)              (None, 10)                1290      \n",
            "_________________________________________________________________\n",
            "activation_6 (Activation)    (None, 10)                0         \n",
            "=================================================================\n",
            "Total params: 227,738\n",
            "Trainable params: 227,738\n",
            "Non-trainable params: 0\n",
            "_________________________________________________________________\n",
            "WARNING:tensorflow:From /usr/local/lib/python3.6/dist-packages/tensorflow/python/ops/math_ops.py:3066: to_int32 (from tensorflow.python.ops.math_ops) is deprecated and will be removed in a future version.\n",
            "Instructions for updating:\n",
            "Use tf.cast instead.\n",
            "Epoch 1/5\n",
            "60000/60000 [==============================] - 149s 2ms/step - loss: 0.1271 - acc: 0.9613\n",
            "Epoch 2/5\n",
            "60000/60000 [==============================] - 146s 2ms/step - loss: 0.0455 - acc: 0.9863\n",
            "Epoch 3/5\n",
            "60000/60000 [==============================] - 146s 2ms/step - loss: 0.0342 - acc: 0.9893\n",
            "Epoch 4/5\n",
            "60000/60000 [==============================] - 146s 2ms/step - loss: 0.0295 - acc: 0.9911\n",
            "Epoch 5/5\n",
            "60000/60000 [==============================] - 146s 2ms/step - loss: 0.0255 - acc: 0.9920\n"
          ],
          "name": "stdout"
        },
        {
          "output_type": "execute_result",
          "data": {
            "text/plain": [
              "<keras.callbacks.History at 0x7fc652321dd8>"
            ]
          },
          "metadata": {
            "tags": []
          },
          "execution_count": 6
        }
      ]
    },
    {
      "cell_type": "code",
      "metadata": {
        "id": "b47mkYKv9mh2",
        "colab_type": "code",
        "outputId": "0950cc62-c418-4389-bd69-90133c9d8101",
        "colab": {
          "base_uri": "https://localhost:8080/",
          "height": 43
        }
      },
      "source": [
        "rst = model.evaluate(X_test, Y_test, verbose = 0)\n",
        "print('Test loss: ', rst[0], ', accuracy:', rst[1])"
      ],
      "execution_count": 7,
      "outputs": [
        {
          "output_type": "stream",
          "text": [
            "Test loss:  0.023937697122688405 , accuracy: 0.9928\n"
          ],
          "name": "stdout"
        }
      ]
    }
  ]
}